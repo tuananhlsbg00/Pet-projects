{
 "cells": [
  {
   "cell_type": "markdown",
   "id": "c8eca999-5be1-4575-8959-9c906fbf5a9e",
   "metadata": {},
   "source": [
    "# Chapter 4\n",
    "## Training Models"
   ]
  },
  {
   "cell_type": "markdown",
   "id": "0f7dbbb7-f3b3-4a80-8dbe-1bb1f225b595",
   "metadata": {},
   "source": [
    "### 1.Linear Regression \n",
    "* Linear Regression Equation: $$\\hat{y}=h_\\theta(x)=\\theta\\cdot x$$\n",
    "* In this Equation:\n",
    "    * $\\theta$ is the model's `_parameter vector_`, containing the bias term $\\theta_0$ and the feature weights from $\\theta_1$ to $\\theta_n$\n",
    "    * $x$ is the instance's `feature vector`, containing $x_0$ to $x_n$, with $x_0$ equal to 1\n",
    "    * $\\theta_0\\cdot x$ is the dot product of the vectors $\\theta$ and $x$\n",
    "    * $h_\\theta$ is the hypothesis function, using the model parameters $\\theta$\n",
    "* The most common performance measure of a regression model is the `Root Mean Square Error (RMSE)`: $$RMSE(X,h) = \\sqrt{\\frac{1}{m}\\sum^m_{i = 1}(h(x^{(i)})-y^{(i)})^2}$$\n",
    "* In practice, it is simpler to minimize the `Mean Squared Error (MSE)` $MSE(X,h_\\theta) = \\frac{1}{m}\\sum^m_{i = 1}(h(x^{(i)})-y^{(i)})^2$, and it leads to the same result since minimize a function similar to minimize its square root\n",
    "* For simpler equation we just write $h$ instead of $h_\\theta$, and $MSE(\\theta)$ instead of $MSE(X,h_\\theta)$\n",
    "#### 1.1 The Normal Equation\n",
    "* The `Normal Equation` give us the $\\theta$ the minimizes the coss function directly: $$\\hat{\\theta} = (X^TX)^{-1}X^Ty$$\n",
    "* In this equation: \n",
    "    * $\\hat{\\theta}$ is the value of $\\theta$ the minimizes the cost function\n",
    "    * $y$ is the vector of target values containing $y^{(1)}$ to $y^{(m)}$\n",
    "    * $X$ is the matrix of training examples with each one is a column vector\n",
    "    \n",
    "> The following code will generate some random linear data to test the equation"
   ]
  },
  {
   "cell_type": "code",
   "execution_count": 8,
   "id": "795e5022-7997-4da6-87ea-06643692f2f1",
   "metadata": {},
   "outputs": [
    {
     "name": "stdout",
     "output_type": "stream",
     "text": [
      "\n"
     ]
    },
    {
     "data": {
      "image/png": "[encoded data removed]",
      "text/plain": [
       "<Figure size 800x400 with 1 Axes>"
      ]
     },
     "metadata": {},
     "output_type": "display_data"
    }
   ],
   "source": [
    "import numpy as np\n",
    "from matplotlib.pyplot import scatter, show, ylabel, xlabel, title, figure, rcParams\n",
    "np.random.seed(42)\n",
    "\n",
    "X = 4*np.random.rand(100,1)\n",
    "y = 2+5*X + X*np.random.randn(100,1)*1.5 + np.random.randn(100,1)*0.5\n",
    "print()\n",
    "\n",
    "rcParams['text.usetex']=True\n",
    "figure(figsize=(8,4))\n",
    "scatter(X, y)\n",
    "ylabel(ylabel='Y',rotation = 0, size = 15)\n",
    "xlabel(xlabel=r'$X_1$', size = 15)\n",
    "show()"
   ]
  },
  {
   "cell_type": "code",
   "execution_count": 24,
   "id": "4af87c6d-48b7-4245-8202-0416d70c069d",
   "metadata": {
    "tags": []
   },
   "outputs": [
    {
     "name": "stdout",
     "output_type": "stream",
     "text": [
      "(1, 3)\n",
      "(1, 2)\n",
      "[[1 2 3 4 5]]\n",
      "(1, 5)\n"
     ]
    }
   ],
   "source": [
    "import numpy as np\n",
    "\n",
    "print(np.array([[1,2,3]]).shape)\n",
    "print(np.array([[4,5]]).shape)\n",
    "print(np.c_[np.array([[1,2,3]]), np.array([[4,5]])])\n",
    "print(np.c_[np.array([[1,2,3]]), np.array([[4,5]])].shape)"
   ]
  },
  {
   "cell_type": "code",
   "execution_count": 50,
   "id": "d7730316-1f80-456b-90b1-83f6171a5224",
   "metadata": {
    "tags": []
   },
   "outputs": [
    {
     "data": {
      "text/plain": [
       "(6,)"
      ]
     },
     "execution_count": 50,
     "metadata": {},
     "output_type": "execute_result"
    }
   ],
   "source": [
    "np.r_[np.array([1,2,3]), np.array([4,5,6])].shape"
   ]
  },
  {
   "cell_type": "code",
   "execution_count": 52,
   "id": "af9c9344-cc17-49d1-a90d-972941385aa4",
   "metadata": {
    "tags": []
   },
   "outputs": [
    {
     "data": {
      "text/plain": [
       "array([[0.01091655, 0.20904184, 0.98811346],\n",
       "       [0.38911437, 0.23496004, 0.42559275]])"
      ]
     },
     "execution_count": 52,
     "metadata": {},
     "output_type": "execute_result"
    }
   ],
   "source": []
  },
  {
   "cell_type": "code",
   "execution_count": 5,
   "id": "77e665cc-5064-4b74-835f-637ba703d98e",
   "metadata": {},
   "outputs": [
    {
     "data": {
      "text/plain": [
       "array([1, 2, 3, 4])"
      ]
     },
     "execution_count": 5,
     "metadata": {},
     "output_type": "execute_result"
    }
   ],
   "source": [
    "np.array([\n",
    "    1,\n",
    "    2,\n",
    "    3\n",
    ",4\n",
    "])"
   ]
  },
  {
   "cell_type": "code",
   "execution_count": null,
   "id": "8e310e28-6566-4ed6-93fd-0e9ae3787c87",
   "metadata": {},
   "outputs": [],
   "source": []
  }
 ],
 "metadata": {
  "kernelspec": {
   "display_name": "DAP391m",
   "language": "python",
   "name": "dap391m"
  },
  "language_info": {
   "codemirror_mode": {
    "name": "ipython",
    "version": 3
   },
   "file_extension": ".py",
   "mimetype": "text/x-python",
   "name": "python",
   "nbconvert_exporter": "python",
   "pygments_lexer": "ipython3",
   "version": "3.11.9"
  }
 },
 "nbformat": 4,
 "nbformat_minor": 5
}
